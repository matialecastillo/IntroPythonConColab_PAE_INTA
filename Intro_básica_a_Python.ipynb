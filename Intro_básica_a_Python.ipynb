{
  "nbformat": 4,
  "nbformat_minor": 0,
  "metadata": {
    "colab": {
      "provenance": [],
      "authorship_tag": "ABX9TyPQkum91xH8hsV4MNmgdfLq",
      "include_colab_link": true
    },
    "kernelspec": {
      "name": "python3",
      "display_name": "Python 3"
    },
    "language_info": {
      "name": "python"
    }
  },
  "cells": [
    {
      "cell_type": "markdown",
      "metadata": {
        "id": "view-in-github",
        "colab_type": "text"
      },
      "source": [
        "<a href=\"https://colab.research.google.com/github/matialecastillo/IntroPythonConColab_PAE_INTA/blob/main/Intro_b%C3%A1sica_a_Python.ipynb\" target=\"_parent\"><img src=\"https://colab.research.google.com/assets/colab-badge.svg\" alt=\"Open In Colab\"/></a>"
      ]
    },
    {
      "cell_type": "markdown",
      "source": [
        "# Intro básica a Python\n",
        "---\n",
        "Python es un lenguaje no interpretado orientado a objetos. \n",
        "Se usa con fines generales, un proposito específico es ciencia de datos. \n",
        "Hay numerosos [resúmenes con ejemplos reproducibles](https://s3.amazonaws.com/assets.datacamp.com/blog_assets/PythonForDataScience.pdf). "
      ],
      "metadata": {
        "id": "DrkX6vmAge3S"
      }
    },
    {
      "cell_type": "code",
      "source": [
        "print('Hola INTA')"
      ],
      "metadata": {
        "colab": {
          "base_uri": "https://localhost:8080/"
        },
        "id": "96wW_Xwrg0YH",
        "outputId": "3eccfb8e-5d30-4631-f5da-7fe388022a01"
      },
      "execution_count": 2,
      "outputs": [
        {
          "output_type": "stream",
          "name": "stdout",
          "text": [
            "Hola INTA\n"
          ]
        }
      ]
    },
    {
      "cell_type": "code",
      "source": [
        "a = 'Hola INTA'"
      ],
      "metadata": {
        "id": "KdZR-kqiFpP9"
      },
      "execution_count": 3,
      "outputs": []
    },
    {
      "cell_type": "code",
      "source": [
        "a"
      ],
      "metadata": {
        "colab": {
          "base_uri": "https://localhost:8080/",
          "height": 35
        },
        "id": "v2JwbSlrF07N",
        "outputId": "0e2a4d6d-b412-4bd9-cff4-338a65a11a9d"
      },
      "execution_count": 4,
      "outputs": [
        {
          "output_type": "execute_result",
          "data": {
            "text/plain": [
              "'Hola INTA'"
            ],
            "application/vnd.google.colaboratory.intrinsic+json": {
              "type": "string"
            }
          },
          "metadata": {},
          "execution_count": 4
        }
      ]
    },
    {
      "cell_type": "markdown",
      "source": [
        "#Tipo de datos\n",
        "## Tipos Básicos de Datos\n",
        "\n",
        "\n",
        "| Tipo  | Ejemplo\n",
        "| --------- | --------------- |\n",
        "| Lógico    | True, False| \n",
        "| Entero    | 1, 2, 3| \n",
        "| Decimal o punto flotante         | 1.25, -120.25 | \n",
        "| Cadena o texto        | Hola, Adiós              | \n",
        "| Lista        | \\[1, 2, 3\\]              |\n",
        "| Diccionario        | {\"llave\": \"valor\"}              |"
      ],
      "metadata": {
        "id": "3RCVt9Dg1c2r"
      }
    },
    {
      "cell_type": "markdown",
      "source": [
        "## Numéricos"
      ],
      "metadata": {
        "id": "AiVyqqunSJCu"
      }
    },
    {
      "cell_type": "code",
      "source": [
        "# Operaciones matemáticas"
      ],
      "metadata": {
        "id": "kXuJZk_W0Fv4"
      },
      "execution_count": null,
      "outputs": []
    },
    {
      "cell_type": "markdown",
      "source": [
        "## Operaciones Básicas\n",
        "\n",
        "\n",
        "| Operador  | Operación                        | Ejemplo         |\n",
        "| --------- | -------------------------------- | --------------- |\n",
        "| **        | Potencia                         | `2 ** 3 = 8`    |\n",
        "| %         | Resto                            | `22 % 8 = 6`    |\n",
        "| //        | División de enteros              | `22 // 8 = 2`   |\n",
        "| /         | Division normal                  | `22 / 8 = 2.75` |\n",
        "| *         | Multiplicación                   | `3 * 3 = 9`     |\n",
        "| -         | Resta                            | `5 - 2 = 3`     |+\n",
        "| +         | Suma         | `2 + 2 = 4`     |+"
      ],
      "metadata": {
        "id": "gNxcldPNwBOp"
      }
    },
    {
      "cell_type": "code",
      "source": [
        "8+8"
      ],
      "metadata": {
        "colab": {
          "base_uri": "https://localhost:8080/"
        },
        "id": "YOJDkmUjGLwz",
        "outputId": "acb4fcec-00bf-4133-f0c3-185787b145e7"
      },
      "execution_count": 6,
      "outputs": [
        {
          "output_type": "execute_result",
          "data": {
            "text/plain": [
              "16"
            ]
          },
          "metadata": {},
          "execution_count": 6
        }
      ]
    },
    {
      "cell_type": "code",
      "source": [
        "9/2"
      ],
      "metadata": {
        "colab": {
          "base_uri": "https://localhost:8080/"
        },
        "id": "Fn5vIwWhGUNc",
        "outputId": "0f0eb452-d82a-408a-cf40-37524d166e83"
      },
      "execution_count": 8,
      "outputs": [
        {
          "output_type": "execute_result",
          "data": {
            "text/plain": [
              "4.5"
            ]
          },
          "metadata": {},
          "execution_count": 8
        }
      ]
    },
    {
      "cell_type": "code",
      "source": [
        "9//2"
      ],
      "metadata": {
        "colab": {
          "base_uri": "https://localhost:8080/"
        },
        "id": "MDbk_OKYGX_6",
        "outputId": "861e8cbf-7133-4f5f-ca27-ca9e0c6e5583"
      },
      "execution_count": 10,
      "outputs": [
        {
          "output_type": "execute_result",
          "data": {
            "text/plain": [
              "4"
            ]
          },
          "metadata": {},
          "execution_count": 10
        }
      ]
    },
    {
      "cell_type": "code",
      "source": [
        "9%2"
      ],
      "metadata": {
        "colab": {
          "base_uri": "https://localhost:8080/"
        },
        "id": "NqIfKEVvGdaH",
        "outputId": "20172317-dbde-47c6-d66a-86bdbe0aeed9"
      },
      "execution_count": 12,
      "outputs": [
        {
          "output_type": "execute_result",
          "data": {
            "text/plain": [
              "1"
            ]
          },
          "metadata": {},
          "execution_count": 12
        }
      ]
    },
    {
      "cell_type": "code",
      "source": [
        "9**2"
      ],
      "metadata": {
        "colab": {
          "base_uri": "https://localhost:8080/"
        },
        "id": "HJZGrMmzGlUt",
        "outputId": "1a1956d4-c1e2-43b3-dd10-bb6496d6cec7"
      },
      "execution_count": 13,
      "outputs": [
        {
          "output_type": "execute_result",
          "data": {
            "text/plain": [
              "81"
            ]
          },
          "metadata": {},
          "execution_count": 13
        }
      ]
    },
    {
      "cell_type": "code",
      "source": [],
      "metadata": {
        "id": "DcTezfpgGoXD"
      },
      "execution_count": null,
      "outputs": []
    },
    {
      "cell_type": "markdown",
      "source": [
        "## Strings o cadenas de caracteres"
      ],
      "metadata": {
        "id": "ipCL9sbYwhIv"
      }
    },
    {
      "cell_type": "code",
      "source": [
        "b = '!'"
      ],
      "metadata": {
        "id": "IZKjTNQyPOqi"
      },
      "execution_count": 14,
      "outputs": []
    },
    {
      "cell_type": "code",
      "source": [
        "type('3')"
      ],
      "metadata": {
        "colab": {
          "base_uri": "https://localhost:8080/"
        },
        "id": "1kn8bQIGGw4j",
        "outputId": "0e831fff-1005-498d-f926-4e0a48e06663"
      },
      "execution_count": 17,
      "outputs": [
        {
          "output_type": "execute_result",
          "data": {
            "text/plain": [
              "str"
            ]
          },
          "metadata": {},
          "execution_count": 17
        }
      ]
    },
    {
      "cell_type": "code",
      "source": [
        "3"
      ],
      "metadata": {
        "colab": {
          "base_uri": "https://localhost:8080/"
        },
        "id": "7PX9YPf1G0Tu",
        "outputId": "8e8ec6ec-15c4-400b-d255-3bb586668361"
      },
      "execution_count": 16,
      "outputs": [
        {
          "output_type": "execute_result",
          "data": {
            "text/plain": [
              "3"
            ]
          },
          "metadata": {},
          "execution_count": 16
        }
      ]
    },
    {
      "cell_type": "code",
      "source": [
        "a+b"
      ],
      "metadata": {
        "colab": {
          "base_uri": "https://localhost:8080/",
          "height": 35
        },
        "id": "0kBGBl8qG56J",
        "outputId": "5a4990db-aae9-4e45-ac71-ac6e460a7211"
      },
      "execution_count": 18,
      "outputs": [
        {
          "output_type": "execute_result",
          "data": {
            "text/plain": [
              "'Hola INTA!'"
            ],
            "application/vnd.google.colaboratory.intrinsic+json": {
              "type": "string"
            }
          },
          "metadata": {},
          "execution_count": 18
        }
      ]
    },
    {
      "cell_type": "code",
      "source": [
        "n_part = 16"
      ],
      "metadata": {
        "id": "2e2nYaZXG-p1"
      },
      "execution_count": 19,
      "outputs": []
    },
    {
      "cell_type": "code",
      "source": [
        "a+b+' Hoy somos {n} participantes'.format(n = n_part)"
      ],
      "metadata": {
        "colab": {
          "base_uri": "https://localhost:8080/",
          "height": 35
        },
        "id": "nBIKLfJwHJUQ",
        "outputId": "6519cdc1-87db-4287-bbd9-f3384959cf0e"
      },
      "execution_count": 20,
      "outputs": [
        {
          "output_type": "execute_result",
          "data": {
            "text/plain": [
              "'Hola INTA! Hoy somos 16 participantes'"
            ],
            "application/vnd.google.colaboratory.intrinsic+json": {
              "type": "string"
            }
          },
          "metadata": {},
          "execution_count": 20
        }
      ]
    },
    {
      "cell_type": "markdown",
      "source": [
        "## Listas"
      ],
      "metadata": {
        "id": "aAmmskoax0Sv"
      }
    },
    {
      "cell_type": "code",
      "source": [
        "['a', 'b', 'c']"
      ],
      "metadata": {
        "colab": {
          "base_uri": "https://localhost:8080/"
        },
        "id": "01_flkCO03rU",
        "outputId": "2725f927-7ce1-4a5f-f194-1227ddb12704"
      },
      "execution_count": 21,
      "outputs": [
        {
          "output_type": "execute_result",
          "data": {
            "text/plain": [
              "['a', 'b', 'c']"
            ]
          },
          "metadata": {},
          "execution_count": 21
        }
      ]
    },
    {
      "cell_type": "code",
      "source": [
        "['a', 2, 'c']"
      ],
      "metadata": {
        "colab": {
          "base_uri": "https://localhost:8080/"
        },
        "id": "gJjQXoX3Hu2f",
        "outputId": "ecffea20-b488-404a-c784-97165cc0385d"
      },
      "execution_count": 22,
      "outputs": [
        {
          "output_type": "execute_result",
          "data": {
            "text/plain": [
              "['a', 2, 'c']"
            ]
          },
          "metadata": {},
          "execution_count": 22
        }
      ]
    },
    {
      "cell_type": "code",
      "source": [
        "[a, 'b', 3]"
      ],
      "metadata": {
        "colab": {
          "base_uri": "https://localhost:8080/"
        },
        "id": "3QJgQQn403cz",
        "outputId": "2bc68f68-a5b4-4e58-caaa-ede8f1dd9680"
      },
      "execution_count": 23,
      "outputs": [
        {
          "output_type": "execute_result",
          "data": {
            "text/plain": [
              "['Hola INTA', 'b', 3]"
            ]
          },
          "metadata": {},
          "execution_count": 23
        }
      ]
    },
    {
      "cell_type": "code",
      "source": [
        "l = [a, 'b', 3]"
      ],
      "metadata": {
        "id": "0MeHNOfqIBJZ"
      },
      "execution_count": 25,
      "outputs": []
    },
    {
      "cell_type": "code",
      "source": [
        "l[0]"
      ],
      "metadata": {
        "colab": {
          "base_uri": "https://localhost:8080/",
          "height": 35
        },
        "id": "juF6kf1nIFmt",
        "outputId": "15e791ba-2802-4e01-aa60-83a2b0736cc5"
      },
      "execution_count": 26,
      "outputs": [
        {
          "output_type": "execute_result",
          "data": {
            "text/plain": [
              "'Hola INTA'"
            ],
            "application/vnd.google.colaboratory.intrinsic+json": {
              "type": "string"
            }
          },
          "metadata": {},
          "execution_count": 26
        }
      ]
    },
    {
      "cell_type": "code",
      "source": [
        "l = [a, 'b', [1,2,3]]"
      ],
      "metadata": {
        "id": "DO-9AnEJIPyC"
      },
      "execution_count": 27,
      "outputs": []
    },
    {
      "cell_type": "code",
      "source": [
        "l[2][0]"
      ],
      "metadata": {
        "colab": {
          "base_uri": "https://localhost:8080/"
        },
        "id": "cXnXaBXsIWss",
        "outputId": "c068247f-1cb0-4c0b-bc57-185e9bdb3f45"
      },
      "execution_count": 29,
      "outputs": [
        {
          "output_type": "execute_result",
          "data": {
            "text/plain": [
              "1"
            ]
          },
          "metadata": {},
          "execution_count": 29
        }
      ]
    },
    {
      "cell_type": "markdown",
      "source": [
        "## Diccionarios\n",
        "Conjunto de pares clave-valor (similar  a las listas pero cada elemento tiene su nombre). Se escriben entre llaves. "
      ],
      "metadata": {
        "id": "cDfuA6EhzG2R"
      }
    },
    {
      "cell_type": "code",
      "source": [
        "d = {'nombre1': 'valor1', 'nombre2':'valor2', 'nombre3': 'Matias'}"
      ],
      "metadata": {
        "id": "hY5Rresi1BWO"
      },
      "execution_count": 31,
      "outputs": []
    },
    {
      "cell_type": "code",
      "source": [
        "d['nombre3']"
      ],
      "metadata": {
        "colab": {
          "base_uri": "https://localhost:8080/",
          "height": 35
        },
        "id": "fuNDPZTbIxgh",
        "outputId": "5c43ff72-c590-4fe2-bae4-7616894f6fdc"
      },
      "execution_count": 33,
      "outputs": [
        {
          "output_type": "execute_result",
          "data": {
            "text/plain": [
              "'Matias'"
            ],
            "application/vnd.google.colaboratory.intrinsic+json": {
              "type": "string"
            }
          },
          "metadata": {},
          "execution_count": 33
        }
      ]
    },
    {
      "cell_type": "markdown",
      "source": [
        "## Conjuntos\n",
        "Conjunto de elementos no ordenadaos (no admite indexado). Se escriben entre llaves pero no tienen keys. "
      ],
      "metadata": {
        "id": "odnwuzRY1NAU"
      }
    },
    {
      "cell_type": "code",
      "source": [
        "c = {1, 3, 4, 'g'}"
      ],
      "metadata": {
        "id": "tKQaESSEQ1uw"
      },
      "execution_count": 35,
      "outputs": []
    },
    {
      "cell_type": "code",
      "source": [
        "c[2]"
      ],
      "metadata": {
        "colab": {
          "base_uri": "https://localhost:8080/",
          "height": 165
        },
        "id": "2EloiRXVPneb",
        "outputId": "ec9b32a8-3003-487f-d8b0-c39003689bb4"
      },
      "execution_count": 36,
      "outputs": [
        {
          "output_type": "error",
          "ename": "TypeError",
          "evalue": "ignored",
          "traceback": [
            "\u001b[0;31m---------------------------------------------------------------------------\u001b[0m",
            "\u001b[0;31mTypeError\u001b[0m                                 Traceback (most recent call last)",
            "\u001b[0;32m<ipython-input-36-5e94ca4a0438>\u001b[0m in \u001b[0;36m<module>\u001b[0;34m\u001b[0m\n\u001b[0;32m----> 1\u001b[0;31m \u001b[0mc\u001b[0m\u001b[0;34m[\u001b[0m\u001b[0;36m2\u001b[0m\u001b[0;34m]\u001b[0m\u001b[0;34m\u001b[0m\u001b[0;34m\u001b[0m\u001b[0m\n\u001b[0m",
            "\u001b[0;31mTypeError\u001b[0m: 'set' object is not subscriptable"
          ]
        }
      ]
    },
    {
      "cell_type": "markdown",
      "source": [
        "# Tuplas\n",
        "Conjunto ordenado e inmutable de elementos del mismo o diferente tipo. "
      ],
      "metadata": {
        "id": "Po4VG8ZdQ2tW"
      }
    },
    {
      "cell_type": "code",
      "source": [
        "(1, 2, 3)"
      ],
      "metadata": {
        "colab": {
          "base_uri": "https://localhost:8080/"
        },
        "id": "k7C_NjJ_RAaq",
        "outputId": "6cdf5ca2-66b5-447f-b33c-fe6dee55af64"
      },
      "execution_count": 37,
      "outputs": [
        {
          "output_type": "execute_result",
          "data": {
            "text/plain": [
              "(1, 2, 3)"
            ]
          },
          "metadata": {},
          "execution_count": 37
        }
      ]
    },
    {
      "cell_type": "code",
      "source": [
        "t = (1,2,3)"
      ],
      "metadata": {
        "id": "JGmggOnFJTWG"
      },
      "execution_count": 38,
      "outputs": []
    },
    {
      "cell_type": "code",
      "source": [
        "t[0] = 5"
      ],
      "metadata": {
        "colab": {
          "base_uri": "https://localhost:8080/",
          "height": 165
        },
        "id": "VJ--n5FEJWb-",
        "outputId": "21fccf0a-c0cb-4866-b2c8-ee478b0ec36d"
      },
      "execution_count": 40,
      "outputs": [
        {
          "output_type": "error",
          "ename": "TypeError",
          "evalue": "ignored",
          "traceback": [
            "\u001b[0;31m---------------------------------------------------------------------------\u001b[0m",
            "\u001b[0;31mTypeError\u001b[0m                                 Traceback (most recent call last)",
            "\u001b[0;32m<ipython-input-40-6dd06f73cec4>\u001b[0m in \u001b[0;36m<module>\u001b[0;34m\u001b[0m\n\u001b[0;32m----> 1\u001b[0;31m \u001b[0mt\u001b[0m\u001b[0;34m[\u001b[0m\u001b[0;36m0\u001b[0m\u001b[0;34m]\u001b[0m \u001b[0;34m=\u001b[0m \u001b[0;36m5\u001b[0m\u001b[0;34m\u001b[0m\u001b[0;34m\u001b[0m\u001b[0m\n\u001b[0m",
            "\u001b[0;31mTypeError\u001b[0m: 'tuple' object does not support item assignment"
          ]
        }
      ]
    },
    {
      "cell_type": "code",
      "source": [
        "l[1] = 5"
      ],
      "metadata": {
        "id": "_rLTwphYJeBR"
      },
      "execution_count": 42,
      "outputs": []
    },
    {
      "cell_type": "code",
      "source": [
        "l"
      ],
      "metadata": {
        "colab": {
          "base_uri": "https://localhost:8080/"
        },
        "id": "TKB8l1vIJiPh",
        "outputId": "54a7fe4a-b683-4175-ffb4-6149c716086e"
      },
      "execution_count": 43,
      "outputs": [
        {
          "output_type": "execute_result",
          "data": {
            "text/plain": [
              "['Hola INTA', 5, [1, 2, 3]]"
            ]
          },
          "metadata": {},
          "execution_count": 43
        }
      ]
    },
    {
      "cell_type": "markdown",
      "source": [
        "## Booleanos\n",
        "Palabras clave que evalúan para verdadero/falso"
      ],
      "metadata": {
        "id": "Xjh590gV0BkJ"
      }
    },
    {
      "cell_type": "code",
      "source": [
        "False"
      ],
      "metadata": {
        "colab": {
          "base_uri": "https://localhost:8080/"
        },
        "id": "yAxOHze80HDt",
        "outputId": "74593007-2905-4c7c-d0ff-e60df03abb4c"
      },
      "execution_count": 33,
      "outputs": [
        {
          "output_type": "execute_result",
          "data": {
            "text/plain": [
              "False"
            ]
          },
          "metadata": {},
          "execution_count": 33
        }
      ]
    },
    {
      "cell_type": "code",
      "source": [
        "True"
      ],
      "metadata": {
        "colab": {
          "base_uri": "https://localhost:8080/"
        },
        "id": "o_MZwnFQ1XWY",
        "outputId": "a86bf432-fec6-4203-f766-6fa63c02610e"
      },
      "execution_count": 44,
      "outputs": [
        {
          "output_type": "execute_result",
          "data": {
            "text/plain": [
              "True"
            ]
          },
          "metadata": {},
          "execution_count": 44
        }
      ]
    },
    {
      "cell_type": "markdown",
      "source": [
        "## Operaciones de comparación: \n",
        "Evaluan por true/false. "
      ],
      "metadata": {
        "id": "VhqVFTJa1cZV"
      }
    },
    {
      "cell_type": "code",
      "source": [
        "1 > 2"
      ],
      "metadata": {
        "colab": {
          "base_uri": "https://localhost:8080/"
        },
        "id": "0OPkV4VU1Ulr",
        "outputId": "8147d578-d017-4d3f-b429-e5f78d1a52af"
      },
      "execution_count": 45,
      "outputs": [
        {
          "output_type": "execute_result",
          "data": {
            "text/plain": [
              "False"
            ]
          },
          "metadata": {},
          "execution_count": 45
        }
      ]
    },
    {
      "cell_type": "code",
      "source": [
        "'Hola' == 'Chau'"
      ],
      "metadata": {
        "colab": {
          "base_uri": "https://localhost:8080/"
        },
        "id": "w-0syjfbJxBN",
        "outputId": "4727caed-aa53-40ce-d012-29274f8255bc"
      },
      "execution_count": 46,
      "outputs": [
        {
          "output_type": "execute_result",
          "data": {
            "text/plain": [
              "False"
            ]
          },
          "metadata": {},
          "execution_count": 46
        }
      ]
    },
    {
      "cell_type": "code",
      "source": [
        "5 == 5"
      ],
      "metadata": {
        "colab": {
          "base_uri": "https://localhost:8080/"
        },
        "id": "-1BCYuRlJz8T",
        "outputId": "6004c903-d71c-457e-a6a8-9136dcbf576b"
      },
      "execution_count": 47,
      "outputs": [
        {
          "output_type": "execute_result",
          "data": {
            "text/plain": [
              "True"
            ]
          },
          "metadata": {},
          "execution_count": 47
        }
      ]
    },
    {
      "cell_type": "code",
      "source": [
        "4 != 5 # distinto"
      ],
      "metadata": {
        "colab": {
          "base_uri": "https://localhost:8080/"
        },
        "id": "NheH0bzrJ2Eg",
        "outputId": "ace75e15-4de0-4c3b-cedd-d72f06f10df6"
      },
      "execution_count": 49,
      "outputs": [
        {
          "output_type": "execute_result",
          "data": {
            "text/plain": [
              "True"
            ]
          },
          "metadata": {},
          "execution_count": 49
        }
      ]
    },
    {
      "cell_type": "markdown",
      "source": [
        "## Operaciones lógicas \n",
        "and: intersección \n",
        "\n",
        "or: unión\n",
        "\n",
        "![BooleanOverview_small.png](data:image/png;base64,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)"
      ],
      "metadata": {
        "id": "XPE8deHp1g8i"
      }
    },
    {
      "cell_type": "code",
      "source": [
        "(True) and (True)"
      ],
      "metadata": {
        "colab": {
          "base_uri": "https://localhost:8080/"
        },
        "id": "k8sGWQB43F8f",
        "outputId": "3568b000-2f13-4189-a222-d3968e25b5e6"
      },
      "execution_count": 50,
      "outputs": [
        {
          "output_type": "execute_result",
          "data": {
            "text/plain": [
              "True"
            ]
          },
          "metadata": {},
          "execution_count": 50
        }
      ]
    },
    {
      "cell_type": "code",
      "source": [
        "(False) and (True)"
      ],
      "metadata": {
        "colab": {
          "base_uri": "https://localhost:8080/"
        },
        "id": "R2VY4vdj3MJ7",
        "outputId": "946dada6-cf09-4565-f83c-d0ff45994c3b"
      },
      "execution_count": 51,
      "outputs": [
        {
          "output_type": "execute_result",
          "data": {
            "text/plain": [
              "False"
            ]
          },
          "metadata": {},
          "execution_count": 51
        }
      ]
    },
    {
      "cell_type": "code",
      "source": [
        "(False) and (False)"
      ],
      "metadata": {
        "colab": {
          "base_uri": "https://localhost:8080/"
        },
        "id": "piUuSakK3Rqs",
        "outputId": "f10ef58a-cd02-4a22-f572-cf561b1f4e5b"
      },
      "execution_count": 52,
      "outputs": [
        {
          "output_type": "execute_result",
          "data": {
            "text/plain": [
              "False"
            ]
          },
          "metadata": {},
          "execution_count": 52
        }
      ]
    },
    {
      "cell_type": "code",
      "source": [
        "(False) or (False)"
      ],
      "metadata": {
        "colab": {
          "base_uri": "https://localhost:8080/"
        },
        "id": "Gjw1WNpp3V_O",
        "outputId": "212bbeed-2ee0-4c3c-cdcd-4ccb7b3bd5ca"
      },
      "execution_count": 53,
      "outputs": [
        {
          "output_type": "execute_result",
          "data": {
            "text/plain": [
              "False"
            ]
          },
          "metadata": {},
          "execution_count": 53
        }
      ]
    },
    {
      "cell_type": "code",
      "source": [
        "(False) or (True)"
      ],
      "metadata": {
        "colab": {
          "base_uri": "https://localhost:8080/"
        },
        "id": "0qbPFJ2q3fXv",
        "outputId": "4ba0cfd4-563d-48d8-8f7d-6ed844dcdc97"
      },
      "execution_count": 38,
      "outputs": [
        {
          "output_type": "execute_result",
          "data": {
            "text/plain": [
              "True"
            ]
          },
          "metadata": {},
          "execution_count": 38
        }
      ]
    },
    {
      "cell_type": "code",
      "source": [
        "(True) or (True)"
      ],
      "metadata": {
        "colab": {
          "base_uri": "https://localhost:8080/"
        },
        "id": "MMW2EwYE39lM",
        "outputId": "ebbc1aa4-bbbe-4fe0-f773-8cba2299679e"
      },
      "execution_count": 39,
      "outputs": [
        {
          "output_type": "execute_result",
          "data": {
            "text/plain": [
              "True"
            ]
          },
          "metadata": {},
          "execution_count": 39
        }
      ]
    },
    {
      "cell_type": "markdown",
      "source": [
        "Ejercicio: \n",
        "- Asigna a dos variables diferentes tu nombre de pila y tu edad. \n",
        "- Imprimir el siguiente texto usando el método format(): \"Hola, soy --- y tengo --- años\". \n",
        "- Reasignar la variable edad quitándole algunos años e imprimir nuevamente el texto. \n",
        "- Crear una lista que tenga nombre, edad. Pasar la lista como argumentos e imprimir nuevamente el texto (se debe indexar la lista). \n",
        "- Crear un diccionario cuyas claves sean 'nombre', 'edad'. Imprimir nuevamente el texto. \n"
      ],
      "metadata": {
        "id": "BnjP3osRS2M6"
      }
    }
  ]
}